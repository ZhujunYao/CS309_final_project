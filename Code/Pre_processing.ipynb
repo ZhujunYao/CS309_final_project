{
  "nbformat": 4,
  "nbformat_minor": 0,
  "metadata": {
    "kernelspec": {
      "name": "python3",
      "display_name": "Python 3"
    },
    "language_info": {
      "codemirror_mode": {
        "name": "ipython",
        "version": 3
      },
      "file_extension": ".py",
      "mimetype": "text/x-python",
      "name": "python",
      "nbconvert_exporter": "python",
      "pygments_lexer": "ipython3",
      "version": "3.6.8"
    },
    "colab": {
      "provenance": []
    },
    "accelerator": "GPU"
  },
  "cells": [
    {
      "cell_type": "markdown",
      "metadata": {
        "id": "UrM6jHdwy47-"
      },
      "source": [
        "# Deep denoising auto-encoder and MLP based multi-output regression on TCGA multi-omics data\n",
        "# Data Pre-processing"
      ]
    },
    {
      "cell_type": "markdown",
      "metadata": {
        "id": "hb-sT4V8y48J"
      },
      "source": [
        "Note: You may skip this notebook if you already have the pre-processed data"
      ]
    },
    {
      "cell_type": "markdown",
      "metadata": {
        "id": "N2_z0jeay48M"
      },
      "source": [
        "Importing libraries"
      ]
    },
    {
      "cell_type": "code",
      "metadata": {
        "trusted": false,
        "id": "_leYcysJy48P"
      },
      "source": [
        "import pandas as pd\n",
        "import numpy as np"
      ],
      "execution_count": null,
      "outputs": []
    },
    {
      "cell_type": "code",
      "metadata": {
        "trusted": false,
        "id": "Dd1qV4aty48b"
      },
      "source": [
        "def intersection(list1, list2, list3):\n",
        "    return list(set(list1) & set(list2) & set(list3))"
      ],
      "execution_count": null,
      "outputs": []
    },
    {
      "cell_type": "code",
      "metadata": {
        "trusted": false,
        "id": "V2ZeJlWZy48j"
      },
      "source": [
        "def extractMatchedIndices(list1, list2):\n",
        "    comm = []\n",
        "    for i in list2:\n",
        "        for j in list1:\n",
        "            if i in j:\n",
        "                comm.append(list1.index(j))\n",
        "                break #added in Ver. 2 to remove duplicate samples\n",
        "    return comm"
      ],
      "execution_count": null,
      "outputs": []
    },
    {
      "cell_type": "code",
      "metadata": {
        "trusted": false,
        "id": "RSWCxVCdy48r"
      },
      "source": [
        "def remrows(data):\n",
        "    t = int(0.8*data.shape[1])\n",
        "    data = data.dropna(thresh=t)\n",
        "    #data = data[(data.T != 0).any()]\n",
        "    return data"
      ],
      "execution_count": null,
      "outputs": []
    },
    {
      "cell_type": "code",
      "metadata": {
        "trusted": false,
        "id": "Vj8xAf3zy48x"
      },
      "source": [
        "def remcolumns(data):\n",
        "    t = int(0.8*data.shape[1])\n",
        "    data = data.dropna(thresh=t,axis=1)\n",
        "    #data = data.loc[:, (data != 0).any(axis=0)]\n",
        "    return data"
      ],
      "execution_count": null,
      "outputs": []
    },
    {
      "cell_type": "code",
      "metadata": {
        "trusted": false,
        "id": "njlD3x6ky483"
      },
      "source": [
        "def tumor_normal_labels(list):\n",
        "    sample = [x[13:15] for x in list]\n",
        "    label = np.array([x in ['01','02','03','04','05','06','07','08','09'] for x in sample])\n",
        "    label=1*label   # converting boolean into int\n",
        "    return label"
      ],
      "execution_count": null,
      "outputs": []
    },
    {
      "cell_type": "code",
      "metadata": {
        "trusted": false,
        "id": "qtITXlnpy489"
      },
      "source": [
        "def myNormalize(data):\n",
        "    (rows, cols) = data.shape\n",
        "    mins = np.zeros(shape=(cols), dtype = np.float32)\n",
        "    maxs = np.zeros(shape=(cols), dtype = np.float32)\n",
        "    for j in range(cols):\n",
        "        mins[j] = np.min(data[:,j])\n",
        "        maxs[j] = np.max(data[:,j])\n",
        "\n",
        "    result = np.copy(data)\n",
        "    for i in range(rows):\n",
        "        for j in range(cols):\n",
        "            result[i,j] = (data[i,j] - mins[j]) / (maxs[j] - mins[j])\n",
        "    return result"
      ],
      "execution_count": null,
      "outputs": []
    },
    {
      "cell_type": "markdown",
      "metadata": {
        "id": "1y5bSW22y49E"
      },
      "source": [
        "# Loading data"
      ]
    },
    {
      "cell_type": "code",
      "metadata": {
        "id": "cmJBB9flgeAU",
        "colab": {
          "base_uri": "https://localhost:8080/"
        },
        "outputId": "909cd8f2-8ddf-40e6-bd14-03b51d21749b"
      },
      "source": [
        "from google.colab import drive\n",
        "drive.mount('/content/drive')"
      ],
      "execution_count": null,
      "outputs": [
        {
          "output_type": "stream",
          "name": "stdout",
          "text": [
            "Mounted at /content/drive\n"
          ]
        }
      ]
    },
    {
      "cell_type": "code",
      "metadata": {
        "id": "of_LBPo4gsAu"
      },
      "source": [
        "#ls \"/content/drive/My Drive\""
      ],
      "execution_count": null,
      "outputs": []
    },
    {
      "cell_type": "markdown",
      "metadata": {
        "id": "KkAP-qmsAGpf"
      },
      "source": [
        "Change paths accordingly"
      ]
    },
    {
      "cell_type": "code",
      "metadata": {
        "id": "2R8C7R7bhruf"
      },
      "source": [
        "dnaMeth = pd.read_table('/content/drive/My Drive/CS309_group_project/LIHC_Methylation450__SingleValue__TSS1500__Both.txt',delimiter='\\t',index_col=0)\n",
        "cna = pd.read_table('/content/drive/My Drive/CS309_group_project/LIHC__genome_wide_snp_6__GeneLevelCNA.txt',delimiter='\\t',index_col=0)\n",
        "rnaSeq = pd.read_table('/content/drive/My Drive/CS309_group_project/LIHC_RNASeq__illuminahiseq_rnaseqv2__GeneExp.txt',delimiter='\\t',index_col=1)     # Using Entrez ID as row identifier')"
      ],
      "execution_count": null,
      "outputs": []
    },
    {
      "cell_type": "markdown",
      "metadata": {
        "id": "XOoX4JEyy49M"
      },
      "source": [
        "Dropping redundant columns"
      ]
    },
    {
      "cell_type": "code",
      "metadata": {
        "trusted": false,
        "id": "aANBFACmy49O"
      },
      "source": [
        "dnaMeth = dnaMeth.drop(dnaMeth.columns[[0]], axis=1)\n",
        "rnaSeq = rnaSeq.drop(rnaSeq.columns[[0]], axis=1)\n",
        "cna = cna.drop(cna.columns[[0,1]], axis=1)"
      ],
      "execution_count": null,
      "outputs": []
    },
    {
      "cell_type": "markdown",
      "metadata": {
        "id": "4V99fvVhUjMs"
      },
      "source": [
        "# Pre-processing"
      ]
    },
    {
      "cell_type": "markdown",
      "metadata": {
        "id": "ZoTL3vkfy49U"
      },
      "source": [
        "Extracting sample names using TCGA barcode"
      ]
    },
    {
      "cell_type": "code",
      "metadata": {
        "trusted": false,
        "id": "r6TzRh3ly49W"
      },
      "source": [
        "dnaMethSamples = list(dnaMeth)\n",
        "rnaSamples = list(rnaSeq)\n",
        "cnaSamples = list(cna)\n",
        "methID = [x[8:16] for x in dnaMethSamples]\n",
        "rnaID = [x[8:16] for x in rnaSamples]\n",
        "cnaID = [x[8:16] for x in cnaSamples]"
      ],
      "execution_count": null,
      "outputs": []
    },
    {
      "cell_type": "markdown",
      "metadata": {
        "id": "_vTq7gEWy49f"
      },
      "source": [
        "Removing duplicates"
      ]
    },
    {
      "cell_type": "code",
      "metadata": {
        "trusted": false,
        "id": "j8x8iSBDy49h"
      },
      "source": [
        "methID=set(methID)\n",
        "rnaID=set(rnaID)\n",
        "cnaID=set(cnaID)"
      ],
      "execution_count": null,
      "outputs": []
    },
    {
      "cell_type": "markdown",
      "metadata": {
        "id": "9y8j7aoDy49m"
      },
      "source": [
        "Reconverting into lists"
      ]
    },
    {
      "cell_type": "code",
      "metadata": {
        "trusted": false,
        "id": "RxUixMQ2y49o"
      },
      "source": [
        "methID=list(methID)\n",
        "rnaID=list(rnaID)\n",
        "cnaID=list(cnaID)"
      ],
      "execution_count": null,
      "outputs": []
    },
    {
      "cell_type": "markdown",
      "metadata": {
        "id": "kxzms2pBy49u"
      },
      "source": [
        "Finding out common samples"
      ]
    },
    {
      "cell_type": "code",
      "metadata": {
        "id": "bcmkmI6OstRa"
      },
      "source": [
        "commonSamples = intersection(methID, rnaID, cnaID)\n",
        "#commonMeth = extractMatchedIndices(methID,commonSamples)\n",
        "#commonRNA =  extractMatchedIndices(rnaID,commonSamples)\n",
        "#commonCNA =  extractMatchedIndices(cnaID,commonSamples)\n",
        "\n",
        "#changes made in Ver. 2\n",
        "commonMeth = extractMatchedIndices(list(dnaMeth),commonSamples)\n",
        "commonRNA =  extractMatchedIndices(list(rnaSeq),commonSamples)\n",
        "commonCNA =  extractMatchedIndices(list(cna),commonSamples)"
      ],
      "execution_count": null,
      "outputs": []
    },
    {
      "cell_type": "code",
      "metadata": {
        "id": "qRfgeSmpx7mg",
        "colab": {
          "base_uri": "https://localhost:8080/"
        },
        "outputId": "a67cb375-20b1-4ded-e488-b5ca301eb082"
      },
      "source": [
        "print(len(commonSamples), len(commonMeth),len(commonRNA),len(commonCNA))"
      ],
      "execution_count": null,
      "outputs": [
        {
          "output_type": "stream",
          "name": "stdout",
          "text": [
            "404 404 404 404\n"
          ]
        }
      ]
    },
    {
      "cell_type": "markdown",
      "metadata": {
        "id": "Flahz8pMy490"
      },
      "source": [
        "Removing rows (genes) having more than 20% missing values across all samples (patients)"
      ]
    },
    {
      "cell_type": "code",
      "metadata": {
        "trusted": false,
        "id": "6iP7d2oYy492"
      },
      "source": [
        "dnaMeth = remrows(dnaMeth)\n",
        "rnaSeq = remrows(rnaSeq)\n",
        "cna = remrows(cna)"
      ],
      "execution_count": null,
      "outputs": []
    },
    {
      "cell_type": "markdown",
      "metadata": {
        "id": "qjmI6R16y496"
      },
      "source": [
        "Removing columns (samples) having more than 20% missing values across all rows (genes)"
      ]
    },
    {
      "cell_type": "code",
      "metadata": {
        "trusted": false,
        "id": "G5jmX3Pmy497"
      },
      "source": [
        "dnaMeth = remcolumns(dnaMeth)\n",
        "rnaSeq = remcolumns(rnaSeq)\n",
        "cna = remcolumns(cna)"
      ],
      "execution_count": null,
      "outputs": []
    },
    {
      "cell_type": "markdown",
      "metadata": {
        "id": "r7ovBPnVy4-A"
      },
      "source": [
        "Reducing each omics data to common samples only"
      ]
    },
    {
      "cell_type": "code",
      "metadata": {
        "trusted": false,
        "id": "H5x0SPoHy4-B"
      },
      "source": [
        "dnaMeth = dnaMeth.iloc[:,commonMeth]\n",
        "rnaSeq = rnaSeq.iloc[:,commonRNA]\n",
        "cna = cna.iloc[:,commonCNA]"
      ],
      "execution_count": null,
      "outputs": []
    },
    {
      "cell_type": "code",
      "metadata": {
        "id": "xzxRT25hiT80"
      },
      "source": [
        "#Validation\n",
        "#df = pd.DataFrame(list(zip(*[commonSamples, list(dnaMeth),list(rnaSeq),list(cna)]))).add_prefix('Col')\n",
        "#df.to_csv('/content/drive/My Drive/TCGA Data/LIHC/IDs_post_processing.csv', index=False)"
      ],
      "execution_count": null,
      "outputs": []
    },
    {
      "cell_type": "markdown",
      "metadata": {
        "id": "7AvbCr25y4-G"
      },
      "source": [
        "Removing 1st quantile for rnaSeq"
      ]
    },
    {
      "cell_type": "code",
      "metadata": {
        "trusted": false,
        "id": "vL0ycXy1y4-I"
      },
      "source": [
        "rnaSeq_rowsum = rnaSeq.sum(axis=1)\n",
        "ind = pd.DataFrame(rnaSeq_rowsum > rnaSeq_rowsum.quantile(0.25))\n",
        "rnaSeq = rnaSeq[ind.values]"
      ],
      "execution_count": null,
      "outputs": []
    },
    {
      "cell_type": "markdown",
      "metadata": {
        "id": "1Hnr3rKky4-M"
      },
      "source": [
        "Finding tumor and normal samples"
      ]
    },
    {
      "cell_type": "code",
      "metadata": {
        "trusted": false,
        "id": "0XEEHMSly4-N"
      },
      "source": [
        "labels = tumor_normal_labels(list(dnaMeth))"
      ],
      "execution_count": null,
      "outputs": []
    },
    {
      "cell_type": "markdown",
      "metadata": {
        "id": "IAyt-xYCy4-Q"
      },
      "source": [
        "Imputing remaining missing values"
      ]
    },
    {
      "cell_type": "code",
      "metadata": {
        "id": "s1ImY6yzlFKt"
      },
      "source": [
        "from sklearn.impute import SimpleImputer"
      ],
      "execution_count": null,
      "outputs": []
    },
    {
      "cell_type": "code",
      "metadata": {
        "id": "wfKrbg3Daoop"
      },
      "source": [
        "imp = SimpleImputer(missing_values=np.NaN, strategy='mean', copy=True)\n",
        "imputedDNAMeth = imp.fit_transform(dnaMeth)\n",
        "imputedRNASeq = imp.fit_transform(rnaSeq)\n",
        "imputedCNA = imp.fit_transform(cna)"
      ],
      "execution_count": null,
      "outputs": []
    },
    {
      "cell_type": "code",
      "metadata": {
        "trusted": false,
        "id": "pu_W1sUdy4-T"
      },
      "source": [
        "#imp = Imputer(missing_values='NaN', strategy='mean', axis=1, copy=True)\n",
        "#imputedDNAMeth = imp.fit_transform(dnaMeth)\n",
        "#imputedRNASeq = imp.fit_transform(rnaSeq)\n",
        "#imputedCNA = imp.fit_transform(cna)"
      ],
      "execution_count": null,
      "outputs": []
    },
    {
      "cell_type": "code",
      "metadata": {
        "trusted": false,
        "id": "rUiCY5wvy4-X"
      },
      "source": [
        "imputedDNAMeth=imputedDNAMeth.transpose()\n",
        "imputedRNASeq=imputedRNASeq.transpose()\n",
        "imputedCNA=imputedCNA.transpose()"
      ],
      "execution_count": null,
      "outputs": []
    },
    {
      "cell_type": "markdown",
      "metadata": {
        "id": "JMWVQovJy4-a"
      },
      "source": [
        "Normalizing datasets using min-max normalization"
      ]
    },
    {
      "cell_type": "code",
      "metadata": {
        "trusted": false,
        "id": "t6lxChj8y4-b"
      },
      "source": [
        "normalized_DNAMeth = myNormalize(imputedDNAMeth)\n",
        "normalized_RNASeq = myNormalize(imputedRNASeq)\n",
        "normalized_CNA = myNormalize(imputedCNA)"
      ],
      "execution_count": null,
      "outputs": []
    },
    {
      "cell_type": "markdown",
      "metadata": {
        "id": "v3BsYUqlAWJ8"
      },
      "source": [
        "Final dimensions after pre-processing"
      ]
    },
    {
      "cell_type": "code",
      "metadata": {
        "id": "F-4Ihkgl_KV_",
        "colab": {
          "base_uri": "https://localhost:8080/"
        },
        "outputId": "948e7143-078d-4116-ff17-5afef773b93f"
      },
      "source": [
        "print(dnaMeth.shape, rnaSeq.shape, cna.shape)"
      ],
      "execution_count": null,
      "outputs": [
        {
          "output_type": "stream",
          "name": "stdout",
          "text": [
            "(18996, 404) (15397, 404) (23604, 404)\n"
          ]
        }
      ]
    },
    {
      "cell_type": "markdown",
      "metadata": {
        "id": "zUo-N3ImUr9a"
      },
      "source": [
        "# Exporting data"
      ]
    },
    {
      "cell_type": "markdown",
      "metadata": {
        "id": "Y4Mlmy1Ly4-g"
      },
      "source": [
        "Saving pre-processed files"
      ]
    },
    {
      "cell_type": "code",
      "metadata": {
        "trusted": false,
        "id": "3sibFUody4-h"
      },
      "source": [
        "preprocessed_DNAMeth = pd.DataFrame(normalized_DNAMeth)\n",
        "preprocessed_RNASeq = pd.DataFrame(normalized_RNASeq)\n",
        "preprocessed_CNA = pd.DataFrame(normalized_CNA)\n",
        "labels=pd.DataFrame(labels)"
      ],
      "execution_count": null,
      "outputs": []
    },
    {
      "cell_type": "markdown",
      "metadata": {
        "id": "lgVBld_Py4-k"
      },
      "source": [
        "Exporting pre-processed data to csv files"
      ]
    },
    {
      "cell_type": "code",
      "metadata": {
        "trusted": true,
        "id": "DOKCZh_Jy4-n"
      },
      "source": [
        "preprocessed_DNAMeth.to_csv('/content/drive/My Drive/CS309_group_project/Preprocessed_Data/LIHC_preprocessed_DNAMeth.csv',index=False)\n",
        "preprocessed_RNASeq.to_csv('/content/drive/My Drive/CS309_group_project/Preprocessed_Data/LIHC_preprocessed_RNASeq.csv',index=False)\n",
        "preprocessed_CNA.to_csv('/content/drive/My Drive/CS309_group_project/Preprocessed_Data/LIHC_preprocessed_CNA.csv',index=False)\n",
        "labels.to_csv('/content/drive/My Drive/CS309_group_project/Preprocessed_Data/LIHC_labels.csv',index=False)"
      ],
      "execution_count": null,
      "outputs": []
    }
  ]
}